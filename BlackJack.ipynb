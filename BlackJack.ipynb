{
 "cells": [
  {
   "cell_type": "markdown",
   "metadata": {},
   "source": [
    "# Black Jack"
   ]
  },
  {
   "cell_type": "code",
   "execution_count": 1,
   "metadata": {},
   "outputs": [],
   "source": [
    "import random as rand\n",
    "import time"
   ]
  },
  {
   "cell_type": "code",
   "execution_count": 2,
   "metadata": {},
   "outputs": [],
   "source": [
    "#Define Draw function\n",
    "def drawCard():\n",
    "    n=rand.randint(1,13)\n",
    "    if n >= 10 :\n",
    "        return 10\n",
    "    else:\n",
    "        return n"
   ]
  },
  {
   "cell_type": "code",
   "execution_count": 3,
   "metadata": {},
   "outputs": [],
   "source": [
    "# Define strategy table\n",
    "tab = [[None for _ in range(0,21)] for _ in range(0,10)]\n",
    "#tab [Dealer Card][Your Card] = Bool\n",
    "    "
   ]
  },
  {
   "cell_type": "code",
   "execution_count": 4,
   "metadata": {},
   "outputs": [],
   "source": [
    "#Dealer \n",
    "def dealerPlay(n):\n",
    "    dealerScore = n\n",
    "    ace = False\n",
    "    if n == 1:\n",
    "        ace = True\n",
    "    n = drawCard()\n",
    "    if n == 1:\n",
    "        ace = True\n",
    "    dealerScore += n\n",
    "    if ace == True:\n",
    "        dealerScore+= 10\n",
    "        while dealerScore < 17 :\n",
    "            dealerScore += drawCard()\n",
    "    else :\n",
    "        while dealerScore < 17 :\n",
    "            n = drawCard()\n",
    "            dealerScore += n\n",
    "            if n == 1 and dealerScore+10 < 21 :\n",
    "                dealerScore+= 10\n",
    "                ace == True\n",
    "            \n",
    "    if ace == True and dealerScore > 21 :\n",
    "        dealerScore -= 10\n",
    "        while dealerScore < 17 :\n",
    "            dealerScore += drawCard()\n",
    "    if dealerScore > 21 :\n",
    "        dealerScore = 0\n",
    "    return dealerScore\n",
    "\n"
   ]
  },
  {
   "cell_type": "code",
   "execution_count": 5,
   "metadata": {},
   "outputs": [],
   "source": [
    "#Dealer \n",
    "def dealerPlay2(n):\n",
    "    dealerScore = n\n",
    "    ace = False\n",
    "    if n == 1: # Check Ace\n",
    "        ace = True\n",
    "        \n",
    "    # Draw card\n",
    "    while True :\n",
    "        n = drawCard()\n",
    "        if n == 1: # Check Ace\n",
    "            ace = True\n",
    "        dealerScore += n\n",
    "        if ace == True and dealerScore + 10 >= 17 and dealerScore + 10 <= 21 :\n",
    "            dealerScore += 10  \n",
    "            break\n",
    "                \n",
    "        if dealerScore >= 17 :\n",
    "            break\n",
    "            \n",
    "    return dealerScore\n",
    "\n"
   ]
  },
  {
   "cell_type": "code",
   "execution_count": 6,
   "metadata": {},
   "outputs": [
    {
     "name": "stdout",
     "output_type": "stream",
     "text": [
      "[0.0, 0.0, 0.0, 0.0, 0.0, 0.0, 0.0, 0.0, 0.0, 0.0]\n"
     ]
    }
   ],
   "source": [
    "# Busting probability\n",
    "bust = [0]*10\n",
    "N = 500000\n",
    "\n",
    "for i in range(0,10):\n",
    "    count = 0\n",
    "    for _ in range (0,N):\n",
    "        if dealerPlay(i+1) > 21 :\n",
    "            count +=1\n",
    "    count /= N;   \n",
    "    bust[i] = count\n",
    "print (bust)"
   ]
  },
  {
   "cell_type": "code",
   "execution_count": 7,
   "metadata": {},
   "outputs": [
    {
     "name": "stdout",
     "output_type": "stream",
     "text": [
      "[0.115464, 0.352962, 0.374232, 0.394376, 0.41672, 0.422326, 0.262056, 0.245296, 0.228364, 0.212664]\n"
     ]
    }
   ],
   "source": [
    "# Busting probability\n",
    "bust = [0]*10\n",
    "N = 500000\n",
    "\n",
    "for i in range(0,10):\n",
    "    count = 0\n",
    "    for _ in range (0,N):\n",
    "        if dealerPlay2(i+1) > 21 :\n",
    "            count +=1\n",
    "    count /= N;   \n",
    "    bust[i] = count\n",
    "print (bust)"
   ]
  },
  {
   "cell_type": "code",
   "execution_count": 8,
   "metadata": {},
   "outputs": [
    {
     "name": "stdout",
     "output_type": "stream",
     "text": [
      "67.838\n",
      "-85.462\n"
     ]
    }
   ],
   "source": [
    "points = 0\n",
    "x = 5\n",
    "for i in range (0,100000) :\n",
    "    player = 20\n",
    "    n = 0 \n",
    "    d = 0\n",
    "    #n = drawCard()\n",
    "    player += n\n",
    "    if n==1 and player + 10 <= 21 :\n",
    "            player += 10\n",
    "    d = dealerPlay(x)\n",
    "    if player <= 21 and player > d:\n",
    "        points += 1\n",
    "    elif player == d :\n",
    "        points += 0\n",
    "    else :\n",
    "        points -= 1\n",
    "print (points/1000)\n",
    "points = 0\n",
    "for i in range (0,100000) :\n",
    "    player = 20\n",
    "    n = 0 \n",
    "    d = 0\n",
    "    n = drawCard()\n",
    "    player += n\n",
    "    if n==1 and player + 10 <= 21 :\n",
    "            player += 10\n",
    "    d = dealerPlay(x)\n",
    "    if player <= 21 and player > d:\n",
    "        points += 1\n",
    "    elif player == d :\n",
    "        points += 0\n",
    "    else :\n",
    "        points -= 1\n",
    "print (points/1000)"
   ]
  },
  {
   "cell_type": "code",
   "execution_count": 9,
   "metadata": {},
   "outputs": [
    {
     "name": "stdout",
     "output_type": "stream",
     "text": [
      "[[None, None, None, None, None, None, None, None, None, None, None, None, None, None, None, None, None, None, None, False], [None, None, None, None, None, None, None, None, None, None, None, None, None, None, None, None, None, None, None, False], [None, None, None, None, None, None, None, None, None, None, None, None, None, None, None, None, None, None, None, False], [None, None, None, None, None, None, None, None, None, None, None, None, None, None, None, None, None, None, None, False], [None, None, None, None, None, None, None, None, None, None, None, None, None, None, None, None, None, None, None, False], [None, None, None, None, None, None, None, None, None, None, None, None, None, None, None, None, None, None, None, False], [None, None, None, None, None, None, None, None, None, None, None, None, None, None, None, None, None, None, None, False], [None, None, None, None, None, None, None, None, None, None, None, None, None, None, None, None, None, None, None, False], [None, None, None, None, None, None, None, None, None, None, None, None, None, None, None, None, None, None, None, False], [None, None, None, None, None, None, None, None, None, None, None, None, None, None, None, None, None, None, None, False]]\n"
     ]
    }
   ],
   "source": [
    "# Define strategy table\n",
    "tab = [[None for _ in range(0,20)] for _ in range(0,10)]\n",
    "#tab [Dealer Card][Your Card] = Bool\n",
    "# Sets 21 to stay\n",
    "for n in range (0,10) :\n",
    "    tab [n][19] = False\n",
    "print (tab)\n"
   ]
  },
  {
   "cell_type": "code",
   "execution_count": 10,
   "metadata": {},
   "outputs": [
    {
     "name": "stdout",
     "output_type": "stream",
     "text": [
      "[[True, True, True, True, True, True, True, True, True, True, True, True, True, True, True, False, False, False, False, False], [True, True, True, True, True, True, True, True, True, True, True, False, False, False, False, False, False, False, False, False], [True, True, True, True, True, True, True, True, True, True, True, False, False, False, False, False, False, False, False, False], [True, True, True, True, True, True, True, True, True, True, False, False, False, False, False, False, False, False, False, False], [True, True, True, True, True, True, True, True, True, True, False, False, False, False, False, False, False, False, False, False], [True, True, True, True, True, True, True, True, True, True, False, False, False, False, False, False, False, False, False, False], [True, True, True, True, True, True, True, True, True, True, True, True, True, True, True, False, False, False, False, False], [True, True, True, True, True, True, True, True, True, True, True, True, True, True, True, False, False, False, False, False], [True, True, True, True, True, True, True, True, True, True, True, True, True, True, True, False, False, False, False, False], [True, True, True, True, True, True, True, True, True, True, True, True, True, True, True, False, False, False, False, False]]\n"
     ]
    }
   ],
   "source": [
    "points = 0\n",
    "for n in range (0,19):\n",
    "    p = 20 - n\n",
    "    for x in range (0,10) :\n",
    "        points = 0\n",
    "        stand = 0\n",
    "        hit = 0\n",
    "        for i in range (0,100000) :\n",
    "            player = p\n",
    "            n = 0 \n",
    "            d = 0\n",
    "            #n = drawCard()\n",
    "            player += n\n",
    "            if n==1 and player + 10 <= 21 :\n",
    "                    player += 10\n",
    "            d = dealerPlay(x+1)\n",
    "            if player <= 21 and player > d:\n",
    "                points += 1\n",
    "            elif player == d :\n",
    "                points += 0\n",
    "            else :\n",
    "                points -= 1\n",
    "        #print (points/1000)\n",
    "        stand = points\n",
    "        points = 0\n",
    "        for i in range (0,100000) :\n",
    "            player = p\n",
    "            n = 0 \n",
    "            d = 0\n",
    "            n = drawCard()\n",
    "            player += n\n",
    "            if n==1 and player + 10 <= 21 :\n",
    "                 player += 10\n",
    "            if player <= 21 :\n",
    "                while tab[x][player-2] == True :\n",
    "                    n = drawCard()\n",
    "                    player += n\n",
    "                    if n==1 and player + 10 <= 21 :\n",
    "                        player += 10\n",
    "                    if player > 21 :\n",
    "                        break\n",
    "            d = dealerPlay(x+1)\n",
    "            if player <= 21 and player > d:\n",
    "                points += 1\n",
    "            elif player == d :\n",
    "                points += 0\n",
    "            else :\n",
    "                points -= 1\n",
    "        #print (points/1000)\n",
    "        hit = points\n",
    "        if stand >= hit :\n",
    "            tab[x][p-2] = False\n",
    "        else :\n",
    "            tab[x][p-2] = True\n",
    "print (tab)"
   ]
  },
  {
   "cell_type": "code",
   "execution_count": null,
   "metadata": {},
   "outputs": [],
   "source": []
  },
  {
   "cell_type": "code",
   "execution_count": null,
   "metadata": {},
   "outputs": [],
   "source": []
  },
  {
   "cell_type": "code",
   "execution_count": null,
   "metadata": {},
   "outputs": [],
   "source": []
  }
 ],
 "metadata": {
  "kernelspec": {
   "display_name": "Python 3.8.13 ('pkd')",
   "language": "python",
   "name": "python3"
  },
  "language_info": {
   "codemirror_mode": {
    "name": "ipython",
    "version": 3
   },
   "file_extension": ".py",
   "mimetype": "text/x-python",
   "name": "python",
   "nbconvert_exporter": "python",
   "pygments_lexer": "ipython3",
   "version": "3.8.13"
  },
  "vscode": {
   "interpreter": {
    "hash": "b485232bd70f6b935cbd547e9858eb94ae30cec28f7d8f367f142f587e7dd2b7"
   }
  }
 },
 "nbformat": 4,
 "nbformat_minor": 4
}
